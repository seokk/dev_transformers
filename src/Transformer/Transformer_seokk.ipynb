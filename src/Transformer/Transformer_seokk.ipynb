{
 "cells": [
  {
   "cell_type": "markdown",
   "metadata": {},
   "source": [
    "## 트랜스포머 개념\n",
    "\n",
    "Transformer 기본 구조 - encoder\n",
    "\n",
    "- 트랜스포머는 n개의 인코더 층을 쌓는 데 이 때 n은 하이퍼파라미터로서 인코더층과 디코더층의 개수를 의미\n",
    "- 인코더층은 크게 총 2개의 sublayer로 구성\n",
    "  - self-attention, feed-forward neural network\n",
    "  \n",
    "#### 1. self-attention\n",
    "\n",
    "- 각 input으로부터 3개의 벡터인 q, k, v를 만듦\n",
    "- 특정 단어와 문장에 사용된 모든 단어와의 점수(연관성) 계산"
   ]
  }
 ],
 "metadata": {
  "kernelspec": {
   "display_name": "Python 3",
   "language": "python",
   "name": "python3"
  },
  "language_info": {
   "codemirror_mode": {
    "name": "ipython",
    "version": 3
   },
   "file_extension": ".py",
   "mimetype": "text/x-python",
   "name": "python",
   "nbconvert_exporter": "python",
   "pygments_lexer": "ipython3",
   "version": "3.6.3"
  }
 },
 "nbformat": 4,
 "nbformat_minor": 2
}
