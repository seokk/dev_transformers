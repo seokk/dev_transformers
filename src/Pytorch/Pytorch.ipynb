{
 "cells": [
  {
   "cell_type": "code",
   "execution_count": 2,
   "metadata": {
    "collapsed": true
   },
   "outputs": [],
   "source": [
    "import torch\n",
    "import torch.nn as nn\n",
    "import torch.nn.functional as F\n",
    "import torch.optim as optim\n",
    "import torch.utils.data as data_utils"
   ]
  },
  {
   "cell_type": "markdown",
   "metadata": {},
   "source": [
    "## 텐서 다루기 https://wikidocs.net/52460\n",
    "\n",
    "- 자연어 처리는 보통 (batch size, 문장 길이, 단어 벡터의 차원)이라는 3차원 텐서를 사용함\n",
    "    - 문장 샘플들, 문장 샘플들의 길이(단어 수), 해당 문장에 대한 차원(밀집 벡터)"
   ]
  },
  {
   "cell_type": "code",
   "execution_count": 77,
   "metadata": {
    "collapsed": true
   },
   "outputs": [],
   "source": [
    "# 3차원 감각 익히기\n",
    "t = np.array([[[0, 1, 2, 4], [3, 4, 5, 4], [2, 5, 4, 3]],\n",
    "            [[6, 7, 8, 4], [9, 10, 11, 4], [8, 13, 24, 5]]])\n",
    "ft = torch.FloatTensor(t)"
   ]
  },
  {
   "cell_type": "code",
   "execution_count": 16,
   "metadata": {},
   "outputs": [
    {
     "name": "stdout",
     "output_type": "stream",
     "text": [
      "torch.Size([2, 2, 3])\n"
     ]
    }
   ],
   "source": [
    "print(ft.shape)  # 샘플의 최종 묶음(문장)은 두개, 세개 단어씩, 그리고 각 문장마다 표현할 밀집 벡터. 가장 바깥쪽 괄호부터 하나씩 진입해서 보면 눈에 보인다"
   ]
  },
  {
   "cell_type": "markdown",
   "metadata": {},
   "source": [
    "##### 4) 뷰"
   ]
  },
  {
   "cell_type": "code",
   "execution_count": 3,
   "metadata": {
    "collapsed": true
   },
   "outputs": [],
   "source": [
    "# 4) 뷰 (https://wikidocs.net/52846)\n",
    "t = np.array([[[0, 1, 2],\n",
    "               [3, 4, 5]],\n",
    "              [[6, 7, 8],\n",
    "               [9, 10, 11]]])\n",
    "ft = torch.FloatTensor(t)"
   ]
  },
  {
   "cell_type": "code",
   "execution_count": 10,
   "metadata": {},
   "outputs": [
    {
     "name": "stdout",
     "output_type": "stream",
     "text": [
      "tensor([[[ 0.,  1.,  2.],\n",
      "         [ 3.,  4.,  5.]],\n",
      "\n",
      "        [[ 6.,  7.,  8.],\n",
      "         [ 9., 10., 11.]]])\n",
      "torch.Size([2, 2, 3])\n"
     ]
    }
   ],
   "source": [
    "print(ft)\n",
    "print(ft.shape)"
   ]
  },
  {
   "cell_type": "code",
   "execution_count": 11,
   "metadata": {},
   "outputs": [
    {
     "name": "stdout",
     "output_type": "stream",
     "text": [
      "tensor([[ 0.,  1.,  2.],\n",
      "        [ 3.,  4.,  5.],\n",
      "        [ 6.,  7.,  8.],\n",
      "        [ 9., 10., 11.]])\n",
      "torch.Size([4, 3])\n"
     ]
    }
   ],
   "source": [
    "# 3차원 to 2차원\n",
    "print(ft.view([-1, 3])) # ft라는 텐서를 (?, 3)의 크기로 변경\n",
    "print(ft.view([-1, 3]).shape)  # -1은 파이토치에게 맡기는 것. 결과적으로 (4, 3)의 크기를 가지는 텐서로 처리됨"
   ]
  },
  {
   "cell_type": "code",
   "execution_count": 17,
   "metadata": {},
   "outputs": [
    {
     "name": "stdout",
     "output_type": "stream",
     "text": [
      "tensor([[[ 0.,  1.,  2.]],\n",
      "\n",
      "        [[ 3.,  4.,  5.]],\n",
      "\n",
      "        [[ 6.,  7.,  8.]],\n",
      "\n",
      "        [[ 9., 10., 11.]]])\n",
      "torch.Size([4, 1, 3])\n"
     ]
    }
   ],
   "source": [
    "# 3차원 텐서 크기만 변경(샘플 개수)\n",
    "print(ft.view([-1, 1, 3]))\n",
    "print(ft.view([-1, 1, 3]).shape)"
   ]
  },
  {
   "cell_type": "markdown",
   "metadata": {},
   "source": [
    "##### 5) 스퀴즈 - 1인 차원을 제거"
   ]
  },
  {
   "cell_type": "code",
   "execution_count": 39,
   "metadata": {},
   "outputs": [
    {
     "name": "stdout",
     "output_type": "stream",
     "text": [
      "tensor([[0.],\n",
      "        [1.],\n",
      "        [2.]])\n",
      "torch.Size([3, 1])\n"
     ]
    }
   ],
   "source": [
    "# 5) 스퀴즈 - 1인 차원을 제거함\n",
    "ft = torch.FloatTensor([[0], [1], [2]])  # 2차원\n",
    "print(ft)\n",
    "print(ft.shape)"
   ]
  },
  {
   "cell_type": "code",
   "execution_count": 23,
   "metadata": {},
   "outputs": [
    {
     "name": "stdout",
     "output_type": "stream",
     "text": [
      "tensor([0., 1., 2.])\n",
      "torch.Size([3])\n"
     ]
    }
   ],
   "source": [
    "print(ft.squeeze())   # 1인 차원이 제거되어 1차원 벡터로 변환됨\n",
    "print(ft.squeeze().shape)"
   ]
  },
  {
   "cell_type": "markdown",
   "metadata": {},
   "source": [
    "##### 6) 언스퀴즈 - 특정 위치에 1인 차원을 추가"
   ]
  },
  {
   "cell_type": "code",
   "execution_count": 30,
   "metadata": {},
   "outputs": [
    {
     "name": "stdout",
     "output_type": "stream",
     "text": [
      "torch.Size([3])\n"
     ]
    }
   ],
   "source": [
    "# 특정 위치에 1인 차원을 추가함\n",
    "ft = torch.Tensor([0, 1, 2])  # 1차원\n",
    "print(ft.shape)"
   ]
  },
  {
   "cell_type": "code",
   "execution_count": 31,
   "metadata": {},
   "outputs": [
    {
     "name": "stdout",
     "output_type": "stream",
     "text": [
      "tensor([[0., 1., 2.]])\n",
      "torch.Size([1, 3])\n"
     ]
    }
   ],
   "source": [
    "print(ft.unsqueeze(0)) # 인덱스가 0부터 시작하므로 0은 첫번째 차원을 의미\n",
    "print(ft.unsqueeze(0).shape)"
   ]
  },
  {
   "cell_type": "code",
   "execution_count": 43,
   "metadata": {},
   "outputs": [
    {
     "name": "stdout",
     "output_type": "stream",
     "text": [
      "tensor([[0., 1., 2.]])\n",
      "torch.Size([1, 3])\n",
      "tensor([[0.],\n",
      "        [1.],\n",
      "        [2.]])\n",
      "torch.Size([3, 1])\n"
     ]
    }
   ],
   "source": [
    "# 동일한 처리를 view로\n",
    "print(ft.view(1, -1))  # 첫번째 차원을 1로 (x축(행)이 1개), 두번째 차원은 임의\n",
    "print(ft.view(1, -1).shape)\n",
    "print(ft.view(3, -1))  # 첫번째 차원을 3으로 (x축(행)이 3개), 두번째 차원은 임의\n",
    "print(ft.view(3, -1).shape)"
   ]
  },
  {
   "cell_type": "code",
   "execution_count": 24,
   "metadata": {},
   "outputs": [
    {
     "name": "stdout",
     "output_type": "stream",
     "text": [
      "torch.Size([1, 3])\n",
      "torch.Size([3, 1])\n"
     ]
    },
    {
     "data": {
      "text/plain": [
       "tensor([[[0.],\n",
       "         [1.],\n",
       "         [2.]]])"
      ]
     },
     "execution_count": 24,
     "metadata": {},
     "output_type": "execute_result"
    }
   ],
   "source": [
    "# Question\n",
    "ft = torch.FloatTensor([[0, 1, 2]])  # 2차원\n",
    "ft2 = torch.FloatTensor([[0], [1], [2]])  # 2차원\n",
    "print(ft.shape)\n",
    "print(ft2.shape)\n",
    "\n",
    "# 1) ft.unsqueeze(1)\n",
    "#ft.unsqueeze(0).shape\n",
    "\n",
    "# 2) ft.unsquessze(-1)\n",
    "\n",
    "# 3) view\n",
    "ft2.view(1, 3, -1)"
   ]
  },
  {
   "cell_type": "code",
   "execution_count": 32,
   "metadata": {},
   "outputs": [
    {
     "data": {
      "text/plain": [
       "tensor([[[0.],\n",
       "         [1.],\n",
       "         [2.]]])"
      ]
     },
     "execution_count": 32,
     "metadata": {},
     "output_type": "execute_result"
    }
   ],
   "source": [
    "ft.view(1, 3, -1)"
   ]
  },
  {
   "cell_type": "code",
   "execution_count": 33,
   "metadata": {},
   "outputs": [
    {
     "data": {
      "text/plain": [
       "torch.Size([1, 1, 3])"
      ]
     },
     "execution_count": 33,
     "metadata": {},
     "output_type": "execute_result"
    }
   ],
   "source": [
    "ft3 = torch.FloatTensor([[[0, 1, 2]]])\n",
    "ft3.shape"
   ]
  },
  {
   "cell_type": "code",
   "execution_count": 37,
   "metadata": {},
   "outputs": [
    {
     "data": {
      "text/plain": [
       "torch.Size([1, 3, 2])"
      ]
     },
     "execution_count": 37,
     "metadata": {},
     "output_type": "execute_result"
    }
   ],
   "source": [
    "# make 1, 3, 2\n",
    "torch.FloatTensor([[[2, 1],[3, 4],[4, 3]]]).shape"
   ]
  },
  {
   "cell_type": "markdown",
   "metadata": {},
   "source": [
    "## 단어의 표현 방법 https://wikidocs.net/60852\n"
   ]
  },
  {
   "cell_type": "markdown",
   "metadata": {},
   "source": [
    "### 원핫 인코딩 한계\n",
    " 1. 단어 개수가 늘어날수록 벡터 공간도 함께 늘어남(저장 공간 측면에서 매우 비효율적)\n",
    " 2. 단어의 유사도를 표현하지 못함\n",
    "\n",
    "### 희소 표현(희소 벡터)\n",
    " - 벡터 또는 행렬(matrix)의 값이 대부분 0으로 표현되는 방법을 희소 표현(sparse representation)이라고 함). 원-핫 벡터는 희소 벡터이다(원핫 인코딩의 한계를 그대로 가짐)\n",
    " \n",
    " Ex) 강아지 = [ 0 0 0 0 1 0 0 0 0 0 0 0 ... 중략 ... 0] # 이 때 1 뒤의 0의 수는 9995개. 차원은 10,000 (단어가 10,000개라고 가정 시)\n",
    " \n",
    "### 밀집 표현(밀집 벡터)\n",
    " - 사용자가 밀집 표현의 차원을 128로 설정한다면, 모든 단어의 벡터 표현의 차원은 128로 바뀌면서 모든 값이 실수가 된다.\n",
    " \n",
    " Ex) 강아지 = [0.2 1.8 1.1 -2.1 1.1 2.8 ... 중략 ...] # 이 벡터의 차원은 128\n",
    " \n",
    "### 워드 임베딩\n",
    " - 단어를 밀집 벡터(dense vector)의 형태로 표현하는 방법을 워드 임베딩이라고 함. 그리고 이 밀집 벡터를 워드임베딩 과정을 통해 나온 결과라고 하여 임베딩 벡터라고도 한다.\n",
    " \n",
    " - 워드 임베딩 방법론으로는 LSA, Word2Vec, FastText, Glove 등이 있음 \n",
    " - Pytorch 에서 제공하는 도구인 nn.embedding()는 앞서 언급한 방법들을 사용하지는 않지만, 단어를 랜덤한 값을 가지는 밀집 벡터로 변환한 뒤에, 인공 신경망의 가중치를 학습하는 것과 같은 방식으로 단어 벡터를 학습하는 방법을 사용함\n",
    " \n",
    "### 워드투벡터(Word2Vec)\n",
    " - 단어 간 유사도를 반영할 수 있도록 단어의 의미를 벡터화 하는 방법\n",
    " - 분산 표현 : 단어의 '의미'를 다차원 공간에 벡터화하는 방법\n",
    " - 이렇게 분산 표현을 이용하여 단어의 유사도를 벡터화하는 작업은 워드 임베딩(embedding) 작업에 속하기 때문에 이렇게 표현된 벡터 또한 임베딩 벡터(embedding vector)라고 하며, 저차원을 가지므로 바로 앞의 챕터에서 배운 밀집 벡터(dense vector)에도 속함\n",
    " \n",
    "### 분산표현\n",
    " - 요약하면 희소 표현이 고차원에 각 차원이 분리된 표현 방법이었다면, 분산 표현은 저차원에 단어의 의미를 여러 차원에다가 분산하여 표현한다. 이런 표현 방법을 사용하면 단어 간 유사도를 계산할 수 있다.\n",
    "\n",
    " - 이를 위한 학습 방법으로는 NNLM, RNNLM 등이 있으나 요즘에는 해당 방법들의 속도를 대폭 개선시킨 Word2Vec가 많이 쓰이고 있다."
   ]
  },
  {
   "cell_type": "markdown",
   "metadata": {},
   "source": [
    "---------------------------------------------"
   ]
  },
  {
   "cell_type": "markdown",
   "metadata": {},
   "source": [
    "### PyTorch의 nn.Embedding()\n",
    "- 파이토치에서는 임베딩 벡터를 사용하는 방법이 크게 두 가지가 있다. \n",
    "    - 임베딩 층(embedding layer)을 만들어 훈련 데이터로부터 처음부터 임베딩 벡터를 학습하는 방법\n",
    "    - 미리 사전에 훈련된 임베딩 벡터(pre-trained word embedding)들을 가져와 사용하는 방법\n",
    "    \n",
    "### 임베딩 층은 룩업 테이블이다.\n",
    "- 임베딩 층의 입력으로 사용하기 위해서 입력 시퀀스의 각 단어들은 모두 정수 인코딩이 되어있어야 한다\n",
    "\n",
    "어떤 단어 → 단어에 부여된 고유한 정수값 → 임베딩 층 통과 → 밀집 벡터\n",
    "\n",
    "1) 임베딩 층은 입력 정수에 대해 밀집 벡터(dense vector)로 매핑\n",
    "\n",
    "2) 이 밀집 벡터는 인공 신경망의 학습 과정에서 가중치가 학습되는 것과 같은 방식으로 훈련됨. \n",
    "\n",
    "3) 훈련 과정에서 단어는 모델이 풀고자하는 작업에 맞는 값으로 업데이트 된다. \n",
    "\n",
    "이 밀집 벡터를 임베딩 벡터라고 부른다.\n",
    "    \n",
    "\n",
    "정수를 밀집 벡터 또는 임베딩 벡터로 맵핑한다는 것은 어떤 의미일까요? 특정 단어와 맵핑되는 정수를 인덱스로 가지는 테이블로부터 임베딩 벡터 값을 가져오는 룩업 테이블이라고 볼 수 있습니다. 그리고 이 테이블은 단어 집합의 크기만큼의 행을 가지므로 모든 단어는 고유한 임베딩 벡터를 가집니다.\n",
    "\n",
    "룩업테이블에 있는 단어의 임베딩 벡터들은 역전파 과정에서 값이 학습된다."
   ]
  },
  {
   "cell_type": "code",
   "execution_count": 4,
   "metadata": {},
   "outputs": [
    {
     "name": "stdout",
     "output_type": "stream",
     "text": [
      "{'to': 2, 'code': 3, 'need': 4, 'know': 5, 'you': 6, 'how': 7, '<unk>': 0, '<pad>': 1}\n"
     ]
    }
   ],
   "source": [
    "import torch\n",
    "train_data = 'you need to know how to code'\n",
    "word_set = set(train_data.split()) # 중복을 제거한 단어들의 집합인 단어 집합 생성.\n",
    "vocab = {word: i+2 for i, word in enumerate(word_set)}  # 단어 집합의 각 단어에 고유한 정수 매핑.\n",
    "vocab['<unk>'] = 0\n",
    "vocab['<pad>'] = 1\n",
    "print(vocab)"
   ]
  },
  {
   "cell_type": "code",
   "execution_count": 5,
   "metadata": {
    "collapsed": true
   },
   "outputs": [],
   "source": [
    "# 단어 집합의 크기만큼의 행을 가지는 테이블 생성. (임베딩 벡터의 차원은 3이라 가정)\n",
    "embedding_table = torch.FloatTensor([\n",
    "                               [ 0.0,  0.0,  0.0],  # 0\n",
    "                               [ 0.0,  0.0,  0.0],  # 1\n",
    "                               [ 0.2,  0.9,  0.3],  # 2\n",
    "                               [ 0.1,  0.5,  0.7],  # 3\n",
    "                               [ 0.2,  0.1,  0.8],  # 4\n",
    "                               [ 0.4,  0.1,  0.1],  # 5\n",
    "                               [ 0.1,  0.8,  0.9],  # 6\n",
    "                               [ 0.6,  0.1,  0.1]])  # 7"
   ]
  },
  {
   "cell_type": "code",
   "execution_count": 8,
   "metadata": {},
   "outputs": [
    {
     "name": "stdout",
     "output_type": "stream",
     "text": [
      "tensor([[0.1000, 0.8000, 0.9000],\n",
      "        [0.2000, 0.1000, 0.8000],\n",
      "        [0.2000, 0.9000, 0.3000],\n",
      "        [0.0000, 0.0000, 0.0000]])\n"
     ]
    }
   ],
   "source": [
    "# 임의의 샘플 문장\n",
    "sample = 'you need to run'.split()\n",
    "idxes=[]\n",
    "# 각 단어를 정수로 변환\n",
    "for word in sample:\n",
    "  try:\n",
    "    idxes.append(vocab[word])\n",
    "  except KeyError: # 단어 집합에 없는 단어일 경우 <unk>로 대체된다.\n",
    "    idxes.append(vocab['<unk>'])\n",
    "idxes = torch.LongTensor(idxes) # tensor([6, 4, 2, 0])\n",
    "\n",
    "# 룩업 테이블\n",
    "lookup_result = embedding_table[idxes, :] # 각 정수를 인덱스로 임베딩 테이블에서 값을 가져온다.\n",
    "print(lookup_result)"
   ]
  },
  {
   "cell_type": "markdown",
   "metadata": {},
   "source": [
    "### 임베딩 층 사용하기\n",
    "\n",
    "nn.Embedding은 크게 두 가지 인자를 받는데 각각 num_embeddings과 embedding_dim입니다.\n",
    "\n",
    " - num_embeddings : 임베딩을 할 단어들의 개수. 다시 말해 단어 집합의 크기.\n",
    " - embedding_dim : 임베딩 할 벡터의 차원. 사용자가 정해주는 하이퍼파라미터이다.\n",
    " - padding_idx : 선택적으로 사용하는 인자. 패딩을 위한 토큰의 인덱스를 알려준다."
   ]
  },
  {
   "cell_type": "code",
   "execution_count": null,
   "metadata": {
    "collapsed": true
   },
   "outputs": [],
   "source": [
    "train_data = 'you need to know how to code'\n",
    "word_set = set(train_data.split()) # 중복을 제거한 단어들의 집합인 단어 집합 생성.\n",
    "vocab = {tkn: i+2 for i, tkn in enumerate(word_set)}  # 단어 집합의 각 단어에 고유한 정수 맵핑.\n",
    "vocab['<unk>'] = 0\n",
    "vocab['<pad>'] = 1"
   ]
  },
  {
   "cell_type": "code",
   "execution_count": 11,
   "metadata": {
    "collapsed": true
   },
   "outputs": [],
   "source": [
    "import torch.nn as nn\n",
    "\n",
    "embedding_layer = nn.Embedding(num_embeddings = len(vocab), \n",
    "                               embedding_dim = 3,\n",
    "                               padding_idx = 1)"
   ]
  },
  {
   "cell_type": "code",
   "execution_count": 14,
   "metadata": {},
   "outputs": [
    {
     "name": "stdout",
     "output_type": "stream",
     "text": [
      "Parameter containing:\n",
      "tensor([[ 2.8888,  1.5721,  0.5345],\n",
      "        [ 0.0000,  0.0000,  0.0000],\n",
      "        [-0.2195,  1.0877, -0.9658],\n",
      "        [-0.9405,  0.2130,  1.4181],\n",
      "        [ 0.8394,  0.2810,  0.8668],\n",
      "        [ 0.2448, -0.5023,  0.9176],\n",
      "        [-0.8760,  0.8622,  0.7863],\n",
      "        [-0.4443,  0.6083, -0.7428]], requires_grad=True)\n"
     ]
    }
   ],
   "source": [
    "#print(embedding_layer)\n",
    "print(embedding_layer.weight)"
   ]
  },
  {
   "cell_type": "markdown",
   "metadata": {},
   "source": [
    "### 사전 훈련된 워드 임베딩(Pretrained Word Embedding) : https://wikidocs.net/64904\n",
    " - nn.Embedding()을 사용하는 것보다 다른 텍스트 데이터로 사전 훈련되어 있는 임베딩 벡터를 불러오는 것이 나은 선택일 수 있다.\n",
    " - 훈련 데이터가 적다면 파이토치의 nn.Embedding()으로 해당 문제에 충분히 특화된 임베딩 벡터를 만들어내는 것이 쉽지 않다. 이 경우, 해당 문제에 특화된 것은 아니지만 보다 일반적이고 보다 많은 훈련 데이터로 이미 Word2Vec이나 GloVe 등으로 학습되어져 있는 임베딩 벡터들을 사용하는 것이 성능의 개선을 가져올 수 있다.\n"
   ]
  },
  {
   "cell_type": "code",
   "execution_count": 16,
   "metadata": {},
   "outputs": [
    {
     "ename": "ModuleNotFoundError",
     "evalue": "No module named 'torchtext'",
     "output_type": "error",
     "traceback": [
      "\u001b[1;31m---------------------------------------------------------------------------\u001b[0m",
      "\u001b[1;31mModuleNotFoundError\u001b[0m                       Traceback (most recent call last)",
      "\u001b[1;32m<ipython-input-16-f8dab9081d39>\u001b[0m in \u001b[0;36m<module>\u001b[1;34m()\u001b[0m\n\u001b[1;32m----> 1\u001b[1;33m \u001b[1;32mfrom\u001b[0m \u001b[0mtorchtext\u001b[0m \u001b[1;32mimport\u001b[0m \u001b[0mdata\u001b[0m\u001b[1;33m,\u001b[0m \u001b[0mdatasets\u001b[0m\u001b[1;33m\u001b[0m\u001b[0m\n\u001b[0m",
      "\u001b[1;31mModuleNotFoundError\u001b[0m: No module named 'torchtext'"
     ]
    }
   ],
   "source": [
    "from torchtext import data, datasets"
   ]
  },
  {
   "cell_type": "code",
   "execution_count": null,
   "metadata": {
    "collapsed": true
   },
   "outputs": [],
   "source": []
  },
  {
   "cell_type": "markdown",
   "metadata": {},
   "source": [
    "### 워드 임베딩 실습"
   ]
  },
  {
   "cell_type": "code",
   "execution_count": 18,
   "metadata": {},
   "outputs": [
    {
     "data": {
      "text/plain": [
       "Embedding(5, 128)"
      ]
     },
     "execution_count": 18,
     "metadata": {},
     "output_type": "execute_result"
    }
   ],
   "source": [
    "src_vocab_size = 5 # 단어 사전 크기\n",
    "d_model = 512  # 단어 임베딩 크기 지정(하이퍼 파라미터)\n",
    "src_len = 5 # length of source?\n",
    "n_layers = 6  # number of Encoder of Decoder Layer\n",
    "n_heads = 8  # number of heads in Multi-Head Attention\n",
    "\n",
    "nn.Embedding(src_vocab_size, d_model) # 128 크기의 단어수 만큼 임베딩 벡터 공간을 만듬\n",
    "# nn.Embedding.from_pretrained(get_sinusoid_encoding_table(src_len+1, d_model),freeze=True) # Positional Encoding\n",
    "nn.ModuleList([EncoderLayer() for _ in range(n_layers)]) # 인코더 레이어 생성. ModuleList를 활용하여 레이어 층만큼 반복 생성. 총 6개 생성\n"
   ]
  },
  {
   "cell_type": "code",
   "execution_count": 47,
   "metadata": {},
   "outputs": [
    {
     "data": {
      "text/plain": [
       "Linear(in_features=512, out_features=512, bias=True)"
      ]
     },
     "execution_count": 47,
     "metadata": {},
     "output_type": "execute_result"
    }
   ],
   "source": [
    "d_model = 512  # 단어 임베딩 크기 지정(하이퍼 파라미터)\n",
    "n_heads = 8  # number of heads in Multi-Head Attention\n",
    "d_k = d_v = 64  # dimension of K(=Q), V\n",
    "\n",
    "W_Q = nn.Linear(d_model, d_k * n_heads)  # input : 512 , output : 64 * 8(=512)\n",
    "W_Q"
   ]
  },
  {
   "cell_type": "code",
   "execution_count": 26,
   "metadata": {
    "collapsed": true
   },
   "outputs": [],
   "source": [
    "sentences = ['ich mochte ein bier P', 'S i want a beer', 'i want a beer E']"
   ]
  },
  {
   "cell_type": "code",
   "execution_count": 28,
   "metadata": {},
   "outputs": [
    {
     "data": {
      "text/plain": [
       "{'P': 0, 'bier': 4, 'ein': 3, 'ich': 1, 'mochte': 2}"
      ]
     },
     "execution_count": 28,
     "metadata": {},
     "output_type": "execute_result"
    }
   ],
   "source": [
    "src_vocab = {'P': 0, 'ich': 1, 'mochte': 2, 'ein': 3, 'bier': 4}\n",
    "src_vocab"
   ]
  },
  {
   "cell_type": "code",
   "execution_count": 30,
   "metadata": {},
   "outputs": [
    {
     "data": {
      "text/plain": [
       "{'E': 6, 'P': 0, 'S': 5, 'a': 3, 'beer': 4, 'i': 1, 'want': 2}"
      ]
     },
     "execution_count": 30,
     "metadata": {},
     "output_type": "execute_result"
    }
   ],
   "source": [
    "tgt_vocab = {'P': 0, 'i': 1, 'want': 2, 'a': 3, 'beer': 4, 'S': 5, 'E': 6}\n",
    "tgt_vocab"
   ]
  },
  {
   "cell_type": "code",
   "execution_count": 31,
   "metadata": {},
   "outputs": [
    {
     "data": {
      "text/plain": [
       "{0: 'P', 1: 'i', 2: 'want', 3: 'a', 4: 'beer', 5: 'S', 6: 'E'}"
      ]
     },
     "execution_count": 31,
     "metadata": {},
     "output_type": "execute_result"
    }
   ],
   "source": [
    "number_dict = {i: w for i, w in enumerate(tgt_vocab)}\n",
    "number_dict"
   ]
  },
  {
   "cell_type": "code",
   "execution_count": 32,
   "metadata": {
    "collapsed": true
   },
   "outputs": [],
   "source": [
    "input_batch = [[src_vocab[n] for n in sentences[0].split()]]\n",
    "output_batch = [[tgt_vocab[n] for n in sentences[1].split()]]\n",
    "target_batch = [[tgt_vocab[n] for n in sentences[2].split()]]"
   ]
  },
  {
   "cell_type": "code",
   "execution_count": 36,
   "metadata": {},
   "outputs": [
    {
     "name": "stdout",
     "output_type": "stream",
     "text": [
      "[[1, 2, 3, 4, 0]]\n",
      "[[5, 1, 2, 3, 4]]\n",
      "[[1, 2, 3, 4, 6]]\n"
     ]
    }
   ],
   "source": [
    "print(input_batch)\n",
    "print(output_batch)\n",
    "print(target_batch)"
   ]
  },
  {
   "cell_type": "code",
   "execution_count": 39,
   "metadata": {},
   "outputs": [
    {
     "name": "stdout",
     "output_type": "stream",
     "text": [
      "tensor([[1, 2, 3, 4, 0]])\n",
      "tensor([[5, 1, 2, 3, 4]])\n",
      "tensor([[1, 2, 3, 4, 6]])\n"
     ]
    }
   ],
   "source": [
    "print(torch.LongTensor(input_batch))\n",
    "print(torch.LongTensor(output_batch))\n",
    "print(torch.LongTensor(target_batch))"
   ]
  },
  {
   "cell_type": "markdown",
   "metadata": {},
   "source": [
    "#### 아래 확인 후 돌아올 것"
   ]
  },
  {
   "cell_type": "code",
   "execution_count": 64,
   "metadata": {},
   "outputs": [
    {
     "name": "stdout",
     "output_type": "stream",
     "text": [
      "5\n",
      "7\n",
      "512\n"
     ]
    }
   ],
   "source": [
    "src_vocab = {'P': 0, 'ich': 1, 'mochte': 2, 'ein': 3, 'bier': 4}\n",
    "src_vocab_size = len(src_vocab)\n",
    "print(src_vocab_size)\n",
    "tgt_vocab = {'P': 0, 'i': 1, 'want': 2, 'a': 3, 'beer': 4, 'S': 5, 'E': 6}\n",
    "number_dict = {i: w for i, w in enumerate(tgt_vocab)}\n",
    "tgt_vocab_size = len(tgt_vocab)\n",
    "print(tgt_vocab_size)\n",
    "d_model = 512\n",
    "print(d_model)"
   ]
  },
  {
   "cell_type": "code",
   "execution_count": 65,
   "metadata": {
    "collapsed": true
   },
   "outputs": [],
   "source": [
    "# 각 단어를 분리 후 고유 정수 부여\n",
    "def make_batch(sentences):\n",
    "    input_batch = [[src_vocab[n] for n in sentences[0].split()]] # input 문장을 단어로 분리 후 워드임베딩\n",
    "    output_batch = [[tgt_vocab[n] for n in sentences[1].split()]] # output 문장을 단어로 분리 후 워드임베딩\n",
    "    target_batch = [[tgt_vocab[n] for n in sentences[2].split()]] \n",
    "    return torch.LongTensor(input_batch), torch.LongTensor(output_batch), torch.LongTensor(target_batch)"
   ]
  },
  {
   "cell_type": "code",
   "execution_count": 67,
   "metadata": {},
   "outputs": [
    {
     "data": {
      "text/plain": [
       "tensor([[1, 2, 3, 4, 0]])"
      ]
     },
     "execution_count": 67,
     "metadata": {},
     "output_type": "execute_result"
    }
   ],
   "source": [
    "sentences = ['ich mochte ein bier P', 'S i want a beer', 'i want a beer E']\n",
    "enc_inputs, dec_inputs, target_batch = make_batch(sentences) \n",
    "\n",
    "enc_inputs # Q, K, V"
   ]
  },
  {
   "cell_type": "code",
   "execution_count": 69,
   "metadata": {},
   "outputs": [
    {
     "data": {
      "text/plain": [
       "Embedding(5, 512)"
      ]
     },
     "execution_count": 69,
     "metadata": {},
     "output_type": "execute_result"
    }
   ],
   "source": [
    "# 워드임베딩(각 단어 별 512 차원 할당)\n",
    "src_emb = nn.Embedding(src_vocab_size, d_model)\n",
    "src_emb"
   ]
  },
  {
   "cell_type": "code",
   "execution_count": 70,
   "metadata": {},
   "outputs": [
    {
     "name": "stdout",
     "output_type": "stream",
     "text": [
      "torch.Size([1, 5, 512])\n",
      "tensor([[[-0.6166,  1.5701, -0.0960,  ..., -1.3465,  0.2474, -0.0830],\n",
      "         [ 0.8530, -1.4422, -0.7523,  ...,  3.0106, -2.0149, -0.2155],\n",
      "         [-0.0756, -0.0186,  0.0599,  ...,  0.1989, -0.2001,  0.4133],\n",
      "         [-0.5815,  0.9314, -0.7279,  ..., -1.3078, -1.2787,  0.7645],\n",
      "         [ 0.2015,  2.2106, -0.6176,  ...,  0.7012,  0.7136, -0.2165]]],\n",
      "       grad_fn=<EmbeddingBackward>)\n"
     ]
    }
   ],
   "source": [
    "enc_outputs = src_emb(enc_inputs)  # 5개의 단어 512차원의 워드임베딩 확인\n",
    "print(enc_outputs.shape)\n",
    "print(enc_outputs)"
   ]
  },
  {
   "cell_type": "code",
   "execution_count": 54,
   "metadata": {},
   "outputs": [
    {
     "name": "stdout",
     "output_type": "stream",
     "text": [
      "1\n"
     ]
    }
   ],
   "source": [
    "d_model = 512  # 단어 임베딩 크기 지정(하이퍼 파라미터)\n",
    "n_heads = 8  # number of heads in Multi-Head Attention\n",
    "d_k = d_v = 64  # dimension of K(=Q), V\n",
    "\n",
    "\n",
    "W_Q = nn.Linear(d_model, d_k * n_heads)  # 가중치 행렬\n",
    "Q = enc_outputs\n",
    "residual, batch_size = Q, Q.size(0) # ??\n",
    "print(batch_size)\n",
    "#W_Q(Q)   # Linear층으로 주입\n",
    "#W_Q(Q).view(batch_size, -1, n_heads, d_k).transpose(1,2)"
   ]
  },
  {
   "cell_type": "markdown",
   "metadata": {},
   "source": [
    "### Multihead Attention 연산"
   ]
  },
  {
   "cell_type": "code",
   "execution_count": 51,
   "metadata": {},
   "outputs": [
    {
     "name": "stdout",
     "output_type": "stream",
     "text": [
      "torch.Size([32, 128, 768])\n",
      "torch.Size([32, 128, 12, 64])\n",
      "torch.Size([32, 128, 12, 64])\n"
     ]
    }
   ],
   "source": [
    "t1 = torch.rand([32, 128, 768])\n",
    "print(t1.shape)\n",
    "\n",
    "new_shape = t1.size()[:-1] + (12, 64)\n",
    "print(new_shape)\n",
    "\n",
    "q = t1.view(new_shape)\n",
    "print(q.shape)"
   ]
  },
  {
   "cell_type": "markdown",
   "metadata": {},
   "source": [
    "### Multihead 개념부\n",
    "https://catsirup.github.io/ai/2020/04/09/transformer-code.html  \n",
    "http://incredible.ai/nlp/2020/02/29/Transformer/#261-q-k-and-v\n",
    "\n",
    "예를 들어서 Q (256, 33, 512), K (256, 33, 512), V (256, 33, 512) 이렇게 embedding vectors가 있을때,\n",
    "33은 33개의 단어가 있다는 뜻이고, 단어 하나당 512개의 dense vector로 표현이 된다.\n",
    "이때 512에 해당되는 부분에 대해서, single attention을 하는 것이 아니라, 512이 부분을 \n",
    "h개로 쪼개서 multi-head attention을 한다."
   ]
  },
  {
   "cell_type": "code",
   "execution_count": 56,
   "metadata": {},
   "outputs": [
    {
     "name": "stdout",
     "output_type": "stream",
     "text": [
      "64\n",
      "torch.Size([256, 33, 512])\n"
     ]
    }
   ],
   "source": [
    "d_model = 512\n",
    "n_head = 8\n",
    "d_k = d_model//n_head\n",
    "d_v = d_model//n_head\n",
    "print(d_k)\n",
    "\n",
    "Q = torch.rand(256, 33, d_model) # Encoder시에는 Q, K, V는 모두 동일하다\n",
    "K = Q\n",
    "V = Q\n",
    "\n",
    "linear_q = nn.Linear(d_model, n_head * d_k, bias=False) # 512 * 512 (input * output)\n",
    "linear_k = nn.Linear(d_model, n_head * d_k, bias=False) # 512 * 512 (input * output)\n",
    "linear_v = nn.Linear(d_model, n_head * d_k, bias=False) # 512 * 512 (input * output)\n",
    "\n",
    "q = linear_q(Q) # Linear Transformation (256, 33, 512)\n",
    "print(q.shape)\n",
    "k = linear_k(Q) # Linear Transformation (256, 33, 512)\n",
    "v = linear_v(Q) # Linear Transformation (256, 33, 512)\n",
    "\n",
    "# Multi Head : d_model(512) vector부분을 h개 (8개)로 나눈다\n",
    "q_s = q.view(256, 33, n_head * d_k) # (256, 33, 8, 64)\n",
    "k_s = k.view(256, 33, n_head * d_k) # (256, 33, 8, 64)\n",
    "v_s = v.view(256, 33, n_head * d_v) # (256, 33, 8, 64)"
   ]
  },
  {
   "cell_type": "code",
   "execution_count": 71,
   "metadata": {},
   "outputs": [
    {
     "name": "stdout",
     "output_type": "stream",
     "text": [
      "torch.Size([3, 32, 16])\n",
      "torch.Size([3, 32, 16])\n"
     ]
    }
   ],
   "source": [
    "x = torch.rand(16, 32, 3)\n",
    "y = x.transpose(0, 2)\n",
    "print(y.shape)\n",
    "z = x.permute(2, 1, 0)\n",
    "print(z.shape)"
   ]
  },
  {
   "cell_type": "code",
   "execution_count": null,
   "metadata": {
    "collapsed": true
   },
   "outputs": [],
   "source": [
    "import torch.nn.functional as F\n",
    "\n",
    "class MultiHeadAttention(nn.Module):\n",
    "    \"\"\"\n",
    "    512인 embedding vector를 -> n_head에 따라서 나눈다.\n",
    "    예를 들어, n_head=8일 경우 512 vector를 -> 8 * 64 vector 로 변형한다\n",
    "    \"\"\"\n",
    "\n",
    "    def __init__(self, embed_dim: int, n_head: int, dropout: float = 0.1):\n",
    "        super(MultiHeadAttention, self).__init__()\n",
    "\n",
    "        self.embed_dim = embed_dim\n",
    "        self.n_head = n_head\n",
    "        self.dk = embed_dim // n_head\n",
    "        self.dv = embed_dim // n_head\n",
    "\n",
    "        self.linear_q = nn.Linear(embed_dim, embed_dim, bias=False)\n",
    "        self.linear_v = nn.Linear(embed_dim, embed_dim, bias=False)\n",
    "        self.linear_k = nn.Linear(embed_dim, embed_dim, bias=False)\n",
    "        self.linear_f = nn.Linear(embed_dim, embed_dim, bias=False)  # Final linear layer\n",
    "\n",
    "        self.attention = ScaleDotProductAttention(self.dk, dropout=dropout)\n",
    "\n",
    "        self.dropout = nn.Dropout(dropout)\n",
    "\n",
    "    def forward(self, q: torch.Tensor, k: torch.Tensor, v: torch.Tensor, mask: torch.Tensor) -> torch.Tensor:\n",
    "        \"\"\"\n",
    "         * 마지막 skip connection 은 layer 부분에서 구현함\n",
    "        \"\"\"\n",
    "        batch_size, n_head, dk, dv = q.size(0), self.n_head, self.dk, self.dv\n",
    "\n",
    "        # Linear Transformation (256, 33, 512)\n",
    "        # Multi Head : d_model(512) vector부분을 h개 (8개) 로 나눈다\n",
    "        q = self.linear_q(q).view(batch_size, -1, n_head, dk)\n",
    "        k = self.linear_k(k).view(batch_size, -1, n_head, dk)\n",
    "        v = self.linear_v(v).view(batch_size, -1, n_head, dv)\n",
    "\n",
    "        q = q.transpose(1, 2)\n",
    "        k = k.transpose(1, 2)\n",
    "        v = v.transpose(1, 2)\n",
    "\n",
    "        scores = self.attention(q, k, v, mask)\n",
    "\n",
    "        # multi head dimension 을 원래의 형태로 되돌린다\n",
    "        # (batch, n_head, seq_len, d_v) (256, 8, 33, 64) --> (batch, seq_len, n_head, d_v) (256, 33, 8, 64)\n",
    "        scores = scores.transpose(1, 2).contiguous().view(batch_size, -1, self.embed_dim)\n",
    "\n",
    "        # Final linear Layer\n",
    "        scores = self.linear_f(scores)\n",
    "        return scores\n",
    "\n",
    "    \n",
    "class ScaleDotProductAttention(nn.Module):\n",
    "    \"\"\"\n",
    "    Attention(Q, K, V) = softmax( (QK^T)/sqrt(d_k) )\n",
    "    \"\"\"\n",
    "\n",
    "    def __init__(self, d_k: int, dropout: float):\n",
    "        \"\"\"\n",
    "        :param d_k: the number of heads\n",
    "        \"\"\"\n",
    "        super(ScaleDotProductAttention, self).__init__()\n",
    "        self.sqrt_dk = d_k ** 0.5  # 8 = 64**0.5\n",
    "        self.dropout = nn.Dropout(dropout)\n",
    "\n",
    "    def forward(self, q: torch.Tensor, k: torch.Tensor, v: torch.Tensor, mask: torch.Tensor = None) -> torch.Tensor:\n",
    "        \"\"\"\n",
    "        :param q: Queries (256 batch, 8 d_k, 33 sequence, 64)\n",
    "        :param k: Keys    (256, 8, 33, 64)\n",
    "        :param v: Values  (256, 8, 33, 64)\n",
    "        :param mask: mask (256, 1, 28) Source Mask\n",
    "        :return: scaled dot attention: (256, 8, 33, 64)\n",
    "        \"\"\"\n",
    "        attn = (q @ k.transpose(-2, -1)) / self.sqrt_dk\n",
    "        if mask is not None:  # 논문에는 안나온 내용. 하지만 masking을 해주어야 한다\n",
    "            mask = mask.unsqueeze(1)\n",
    "            attn = attn.masked_fill(~mask, -1e9)\n",
    "\n",
    "        attn = self.dropout(F.softmax(attn, dim=-1))  # softmax 이후 dropout도 논문에는 없으나 해야 한다\n",
    "        output = attn @ v  # (256, 8, 33, 64)\n",
    "        return output\n",
    "\n",
    "\n",
    "input_tensor = torch.rand(256, 33, 512)\n",
    "\n",
    "attention = MultiHeadAttention(512, 8)\n",
    "output = attention(input_tensor, input_tensor, input_tensor, None)\n",
    "\n",
    "print('output:', output.shape)  # output: torch.Size([256, 33, 512])"
   ]
  }
 ],
 "metadata": {
  "kernelspec": {
   "display_name": "Python 3",
   "language": "python",
   "name": "python3"
  },
  "language_info": {
   "codemirror_mode": {
    "name": "ipython",
    "version": 3
   },
   "file_extension": ".py",
   "mimetype": "text/x-python",
   "name": "python",
   "nbconvert_exporter": "python",
   "pygments_lexer": "ipython3",
   "version": "3.6.3"
  }
 },
 "nbformat": 4,
 "nbformat_minor": 2
}
