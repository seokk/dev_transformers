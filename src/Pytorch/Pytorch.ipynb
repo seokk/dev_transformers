{
 "cells": [
  {
   "cell_type": "code",
   "execution_count": 1,
   "metadata": {
    "collapsed": true
   },
   "outputs": [],
   "source": [
    "import torch\n",
    "import torch.nn as nn\n",
    "import torch.nn.functional as F\n",
    "import torch.optim as optim\n",
    "import torch.utils.data as data_utils"
   ]
  },
  {
   "cell_type": "code",
   "execution_count": null,
   "metadata": {
    "collapsed": true
   },
   "outputs": [],
   "source": [
    "class MyModel(nn.Module):\n",
    "    \n",
    "    def __init__(self, X_dim, y_dim):\n",
    "        super(MyModel, self).__init__()\n",
    "        layer1 = nn.Linear(X_dim, 128)\n",
    "        activation1 = nn.ReLU()\n",
    "        layer2 = nn.Linear(128, y_dim)\n",
    "        self.module = nn.Sequential(\n",
    "            layer1,\n",
    "            activation1,\n",
    "            layer2\n",
    "        )\n",
    "        \n",
    "    def forward(self, x):\n",
    "        out = self.module(x)\n",
    "        result = F.softmax(out, dim=1)\n",
    "        return result        "
   ]
  }
 ],
 "metadata": {
  "kernelspec": {
   "display_name": "Python 3",
   "language": "python",
   "name": "python3"
  },
  "language_info": {
   "codemirror_mode": {
    "name": "ipython",
    "version": 3
   },
   "file_extension": ".py",
   "mimetype": "text/x-python",
   "name": "python",
   "nbconvert_exporter": "python",
   "pygments_lexer": "ipython3",
   "version": "3.6.3"
  }
 },
 "nbformat": 4,
 "nbformat_minor": 2
}
